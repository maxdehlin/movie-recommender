{
 "cells": [
  {
   "cell_type": "markdown",
   "id": "794df80e",
   "metadata": {},
   "source": [
    "Movie Recommender System\n",
    "\n",
    "Steps:\n",
    "\n",
    "1. import packages and data\n",
    "2. train hybrid model on MovieLens data\n",
    "    2a. Content-based for cold start\n",
    "    2b. Collaborative filtering afterwards\n",
    "3. evaluate model\n",
    "4. deploy model using flask/etc.\n",
    "    4a. Api calls to collect user events\n",
    "    4b. Retrain model with new batch every night\n",
    "\n",
    "User Perspective:\n",
    "\n",
    "Simple website that requests an account signup. The user will input 10 movies and their ratings. When they watch movies they will update their profile. They will be provided with 10 recommended movies.\n",
    "\n"
   ]
  },
  {
   "cell_type": "code",
   "execution_count": 2,
   "id": "e5a45c8f",
   "metadata": {},
   "outputs": [],
   "source": [
    "import pandas as pd\n",
    "import numpy as np\n",
    "import sklearn as skl"
   ]
  },
  {
   "cell_type": "code",
   "execution_count": null,
   "id": "a01dda83",
   "metadata": {},
   "outputs": [],
   "source": []
  }
 ],
 "metadata": {
  "kernelspec": {
   "display_name": ".venv",
   "language": "python",
   "name": "python3"
  },
  "language_info": {
   "codemirror_mode": {
    "name": "ipython",
    "version": 3
   },
   "file_extension": ".py",
   "mimetype": "text/x-python",
   "name": "python",
   "nbconvert_exporter": "python",
   "pygments_lexer": "ipython3",
   "version": "3.13.3"
  }
 },
 "nbformat": 4,
 "nbformat_minor": 5
}
